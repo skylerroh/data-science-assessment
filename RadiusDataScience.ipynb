{
 "cells": [
  {
   "cell_type": "markdown",
   "metadata": {
    "run_control": {
     "frozen": false,
     "read_only": false
    }
   },
   "source": [
    "# Radius Data Science Coding Challenge: Data Analysis"
   ]
  },
  {
   "cell_type": "raw",
   "metadata": {
    "ExecuteTime": {
     "end_time": "2017-09-26T22:17:18.972695",
     "start_time": "2017-09-26T22:17:18.942296"
    }
   },
   "source": [
    "<script>\n",
    "  function code_toggle() {\n",
    "    if (code_shown){\n",
    "      $('div.input').hide('500');\n",
    "      $('#toggleButton').val('Show Code')\n",
    "    } else {\n",
    "      $('div.input').show('500');\n",
    "      $('#toggleButton').val('Hide Code')\n",
    "    }\n",
    "    code_shown = !code_shown\n",
    "  }\n",
    "\n",
    "  $( document ).ready(function(){\n",
    "    code_shown=false;\n",
    "    $('div.input').hide()\n",
    "  });\n",
    "</script>\n",
    "<form action=\"javascript:code_toggle()\"><input type=\"submit\" id=\"toggleButton\" value=\"Show Code\"></form>"
   ]
  },
  {
   "cell_type": "markdown",
   "metadata": {
    "run_control": {
     "frozen": false,
     "read_only": false
    }
   },
   "source": [
    "|Attribute | Information|  \n",
    "|:---------:|:-----------:|  \n",
    "|name | The name of the business|\n",
    "|address | The street address of the business|\n",
    "|city | The city the business is in|\n",
    "|zip | The businesses zip code\n",
    "|time_in_business | The years the company has been in business|\n",
    "|phone | The businesses phone number|\n",
    "|category_code | The NAICS code for the business|\n",
    "|headcount | The number of people employed by the business|\n",
    "|revenue | The revenue (in thousands) of the business|"
   ]
  },
  {
   "cell_type": "markdown",
   "metadata": {
    "run_control": {
     "frozen": false,
     "read_only": false
    }
   },
   "source": [
    "1. Fill Rate: For each field, how many records have a value.\n",
    "2. True-Valued Fill Rate: For each field, how many records have relevant data in them. For example, a field which has string valued entries may have elements that contain something like ' '. This is a string but may not be 'good' data depending on the field.\n",
    "3. Cardinality: The cardinality of each field.\n",
    "4. Something interesting: Find something cool or odd in the data set and tell us about it."
   ]
  },
  {
   "cell_type": "code",
   "execution_count": 257,
   "metadata": {
    "ExecuteTime": {
     "end_time": "2017-09-27T10:33:49.020010",
     "start_time": "2017-09-27T10:33:49.016734"
    },
    "collapsed": true,
    "run_control": {
     "frozen": false,
     "read_only": false
    }
   },
   "outputs": [],
   "source": [
    "import pandas as pd\n",
    "import numpy as np\n",
    "import json\n",
    "import re"
   ]
  },
  {
   "cell_type": "code",
   "execution_count": 258,
   "metadata": {
    "ExecuteTime": {
     "end_time": "2017-09-27T10:34:00.311451",
     "start_time": "2017-09-27T10:33:49.021686"
    },
    "collapsed": true,
    "run_control": {
     "frozen": false,
     "read_only": false
    }
   },
   "outputs": [],
   "source": [
    "with open('data_analysis.json') as json_data:\n",
    "    data = json.load(json_data)\n",
    "    json_data.close()"
   ]
  },
  {
   "cell_type": "code",
   "execution_count": 259,
   "metadata": {
    "ExecuteTime": {
     "end_time": "2017-09-27T10:34:04.603567",
     "start_time": "2017-09-27T10:34:00.313249"
    },
    "collapsed": false,
    "run_control": {
     "frozen": false,
     "read_only": false
    }
   },
   "outputs": [],
   "source": [
    "df = pd.DataFrame(data)"
   ]
  },
  {
   "cell_type": "code",
   "execution_count": 260,
   "metadata": {
    "ExecuteTime": {
     "end_time": "2017-09-27T10:34:04.608504",
     "start_time": "2017-09-27T10:34:04.605727"
    },
    "collapsed": false,
    "run_control": {
     "frozen": false,
     "read_only": false
    }
   },
   "outputs": [],
   "source": [
    "df.shape;"
   ]
  },
  {
   "cell_type": "code",
   "execution_count": 261,
   "metadata": {
    "ExecuteTime": {
     "end_time": "2017-09-27T10:34:04.645401",
     "start_time": "2017-09-27T10:34:04.610063"
    },
    "collapsed": false,
    "run_control": {
     "frozen": false,
     "read_only": false
    }
   },
   "outputs": [
    {
     "data": {
      "text/html": [
       "<div>\n",
       "<table border=\"1\" class=\"dataframe\">\n",
       "  <thead>\n",
       "    <tr style=\"text-align: right;\">\n",
       "      <th></th>\n",
       "      <th>address</th>\n",
       "      <th>category_code</th>\n",
       "      <th>city</th>\n",
       "      <th>headcount</th>\n",
       "      <th>name</th>\n",
       "      <th>phone</th>\n",
       "      <th>revenue</th>\n",
       "      <th>state</th>\n",
       "      <th>time_in_business</th>\n",
       "      <th>zip</th>\n",
       "    </tr>\n",
       "  </thead>\n",
       "  <tbody>\n",
       "    <tr>\n",
       "      <th>0</th>\n",
       "      <td>10085 SCRIPPS RANCH CT STE A</td>\n",
       "      <td>44420000</td>\n",
       "      <td>SAN DIEGO</td>\n",
       "      <td>50 to 99</td>\n",
       "      <td>AMD CUSTOM</td>\n",
       "      <td>3123628000</td>\n",
       "      <td>$20 to 50 Million</td>\n",
       "      <td>CA</td>\n",
       "      <td>10+ years</td>\n",
       "      <td>92131</td>\n",
       "    </tr>\n",
       "    <tr>\n",
       "      <th>1</th>\n",
       "      <td>2566 SHALLOWFORD RD NE STE 104 # 302</td>\n",
       "      <td>31490000</td>\n",
       "      <td>ATLANTA</td>\n",
       "      <td>1 to 4</td>\n",
       "      <td>Real Hope Real Estate Inc</td>\n",
       "      <td>None</td>\n",
       "      <td>Less Than $500,000</td>\n",
       "      <td>GA</td>\n",
       "      <td>10+ years</td>\n",
       "      <td>30345</td>\n",
       "    </tr>\n",
       "    <tr>\n",
       "      <th>2</th>\n",
       "      <td>212 E MAIN ST</td>\n",
       "      <td>53120000</td>\n",
       "      <td>NEOSHO</td>\n",
       "      <td>1 to 4</td>\n",
       "      <td>Jimmy Sexton Photography</td>\n",
       "      <td>4046331779</td>\n",
       "      <td>Less Than $500,000</td>\n",
       "      <td>MO</td>\n",
       "      <td>10+ years</td>\n",
       "      <td>64850</td>\n",
       "    </tr>\n",
       "    <tr>\n",
       "      <th>3</th>\n",
       "      <td>6032 CHEROKEE DR</td>\n",
       "      <td>54000000</td>\n",
       "      <td>CINCINNATI</td>\n",
       "      <td>1 to 4</td>\n",
       "      <td>YOU'RE ART</td>\n",
       "      <td>4174513798</td>\n",
       "      <td>Less Than $500,000</td>\n",
       "      <td>OH</td>\n",
       "      <td>10+ years</td>\n",
       "      <td>45243</td>\n",
       "    </tr>\n",
       "    <tr>\n",
       "      <th>4</th>\n",
       "      <td>1315 N WOOSTER AVE</td>\n",
       "      <td>54100000</td>\n",
       "      <td>STRASBURG</td>\n",
       "      <td>1 to 4</td>\n",
       "      <td>Hayberg Restoration Network LLC</td>\n",
       "      <td>5135612584</td>\n",
       "      <td>$500,000 to $1 Million</td>\n",
       "      <td>OH</td>\n",
       "      <td>10+ years</td>\n",
       "      <td>44680</td>\n",
       "    </tr>\n",
       "  </tbody>\n",
       "</table>\n",
       "</div>"
      ],
      "text/plain": [
       "                                address category_code        city headcount  \\\n",
       "0          10085 SCRIPPS RANCH CT STE A      44420000   SAN DIEGO  50 to 99   \n",
       "1  2566 SHALLOWFORD RD NE STE 104 # 302      31490000     ATLANTA    1 to 4   \n",
       "2                         212 E MAIN ST      53120000      NEOSHO    1 to 4   \n",
       "3                      6032 CHEROKEE DR      54000000  CINCINNATI    1 to 4   \n",
       "4                    1315 N WOOSTER AVE      54100000   STRASBURG    1 to 4   \n",
       "\n",
       "                              name       phone                 revenue state  \\\n",
       "0                       AMD CUSTOM  3123628000       $20 to 50 Million    CA   \n",
       "1        Real Hope Real Estate Inc        None      Less Than $500,000    GA   \n",
       "2         Jimmy Sexton Photography  4046331779      Less Than $500,000    MO   \n",
       "3                       YOU'RE ART  4174513798      Less Than $500,000    OH   \n",
       "4  Hayberg Restoration Network LLC  5135612584  $500,000 to $1 Million    OH   \n",
       "\n",
       "  time_in_business    zip  \n",
       "0        10+ years  92131  \n",
       "1        10+ years  30345  \n",
       "2        10+ years  64850  \n",
       "3        10+ years  45243  \n",
       "4        10+ years  44680  "
      ]
     },
     "execution_count": 261,
     "metadata": {},
     "output_type": "execute_result"
    }
   ],
   "source": [
    "df.head(5)"
   ]
  },
  {
   "cell_type": "markdown",
   "metadata": {
    "run_control": {
     "frozen": false,
     "read_only": false
    }
   },
   "source": [
    "## 1. Fill Rate\n",
    "### For each field, how many records have a value.\n",
    "By creating a brief description of the data, we observe the number of records with a value, number of unique values, and most common values prior to data cleaning."
   ]
  },
  {
   "cell_type": "markdown",
   "metadata": {
    "run_control": {
     "frozen": false,
     "read_only": false
    }
   },
   "source": [
    "|Attribute | Records With Value|  \n",
    "|:---------:|:-----------:| \n",
    "|name | 999986|\n",
    "|address | 999986|\n",
    "|city | 999986|\n",
    "|zip | 999988|\n",
    "|time_in_business | 916125|\n",
    "|phone | 590889|\n",
    "|category_code | 999986|\n",
    "|headcount | 962352|\n",
    "|revenue | \t943092|"
   ]
  },
  {
   "cell_type": "code",
   "execution_count": 262,
   "metadata": {
    "ExecuteTime": {
     "end_time": "2017-09-27T10:34:15.343521",
     "start_time": "2017-09-27T10:34:04.647895"
    },
    "collapsed": false,
    "run_control": {
     "frozen": false,
     "read_only": false
    }
   },
   "outputs": [
    {
     "data": {
      "text/html": [
       "<div>\n",
       "<table border=\"1\" class=\"dataframe\">\n",
       "  <thead>\n",
       "    <tr style=\"text-align: right;\">\n",
       "      <th></th>\n",
       "      <th>address</th>\n",
       "      <th>category_code</th>\n",
       "      <th>city</th>\n",
       "      <th>headcount</th>\n",
       "      <th>name</th>\n",
       "      <th>phone</th>\n",
       "      <th>revenue</th>\n",
       "      <th>state</th>\n",
       "      <th>time_in_business</th>\n",
       "      <th>zip</th>\n",
       "    </tr>\n",
       "  </thead>\n",
       "  <tbody>\n",
       "    <tr>\n",
       "      <th>count</th>\n",
       "      <td>999986</td>\n",
       "      <td>999986</td>\n",
       "      <td>999986</td>\n",
       "      <td>962352</td>\n",
       "      <td>999986</td>\n",
       "      <td>590889</td>\n",
       "      <td>943092</td>\n",
       "      <td>999986</td>\n",
       "      <td>916125</td>\n",
       "      <td>999988</td>\n",
       "    </tr>\n",
       "    <tr>\n",
       "      <th>unique</th>\n",
       "      <td>892120</td>\n",
       "      <td>1184</td>\n",
       "      <td>13720</td>\n",
       "      <td>15</td>\n",
       "      <td>890723</td>\n",
       "      <td>575154</td>\n",
       "      <td>17</td>\n",
       "      <td>59</td>\n",
       "      <td>11</td>\n",
       "      <td>26397</td>\n",
       "    </tr>\n",
       "    <tr>\n",
       "      <th>top</th>\n",
       "      <td>1 S DEARBORN ST</td>\n",
       "      <td>61111000</td>\n",
       "      <td>NEW YORK</td>\n",
       "      <td>1 to 4</td>\n",
       "      <td>Farmers Insurance</td>\n",
       "      <td>3037705531</td>\n",
       "      <td>Less Than $500,000</td>\n",
       "      <td>CA</td>\n",
       "      <td>10+ years</td>\n",
       "      <td>10001</td>\n",
       "    </tr>\n",
       "    <tr>\n",
       "      <th>freq</th>\n",
       "      <td>76</td>\n",
       "      <td>39461</td>\n",
       "      <td>14264</td>\n",
       "      <td>358207</td>\n",
       "      <td>821</td>\n",
       "      <td>88</td>\n",
       "      <td>329635</td>\n",
       "      <td>122812</td>\n",
       "      <td>758867</td>\n",
       "      <td>1151</td>\n",
       "    </tr>\n",
       "  </tbody>\n",
       "</table>\n",
       "</div>"
      ],
      "text/plain": [
       "                address category_code      city headcount               name  \\\n",
       "count            999986        999986    999986    962352             999986   \n",
       "unique           892120          1184     13720        15             890723   \n",
       "top     1 S DEARBORN ST      61111000  NEW YORK    1 to 4  Farmers Insurance   \n",
       "freq                 76         39461     14264    358207                821   \n",
       "\n",
       "             phone             revenue   state time_in_business     zip  \n",
       "count       590889              943092  999986           916125  999988  \n",
       "unique      575154                  17      59               11   26397  \n",
       "top     3037705531  Less Than $500,000      CA        10+ years   10001  \n",
       "freq            88              329635  122812           758867    1151  "
      ]
     },
     "execution_count": 262,
     "metadata": {},
     "output_type": "execute_result"
    }
   ],
   "source": [
    "df.describe()"
   ]
  },
  {
   "cell_type": "markdown",
   "metadata": {
    "run_control": {
     "frozen": false,
     "read_only": false
    }
   },
   "source": [
    "## 2. True-Valued Fill Rate\n",
    "### For each field, how many records have relevant data in them. For example, a field which has string valued entries may have elements that contain something like ' '. This is a string but may not be 'good' data depending on the field.\n",
    "\n",
    "Each column only contains invalid fields that are either '0', 'null', '', ' ', 'none', or empty. Additional formatting was checked for fields with many unique values.\n",
    " - address: requires at least one digit and is alpha numeric besides a few valid symbols including periods, dashes, and forward slashes (caught one invalid address that was just '2nd')\n",
    " - zipcodes: require 5 digits. some values were only 4 digits but upon inspection the corresponding cities had the same zipcode with a leading 0, consider these valid\n",
    " - cities: require only letters except for period (ST. LOUIS) or dash (BATESBURG-LEESVILLE)\n",
    " - phone: require all digits except for parens, dash or period\n",
    " \n",
    "|Attribute | Information|  \n",
    "|:---------:|:-----------:|  \n",
    "|address|999897|\n",
    "|category_code|999910|\n",
    "|city|999895|\n",
    "|headcount|962273|\n",
    "|name|999910|\n",
    "|phone|590798|\n",
    "|revenue|943001|\n",
    "|state|999896|\n",
    "|time_in_business|916048|\n",
    "|zip|999890|"
   ]
  },
  {
   "cell_type": "code",
   "execution_count": 275,
   "metadata": {
    "ExecuteTime": {
     "end_time": "2017-09-27T10:36:46.142374",
     "start_time": "2017-09-27T10:36:46.126812"
    },
    "collapsed": false,
    "run_control": {
     "frozen": false,
     "read_only": false
    }
   },
   "outputs": [],
   "source": [
    "# non null\n",
    "nullSet = set(['0', 'null', '', ' ', 'none', ' 0'])\n",
    "def validNotNull(string):\n",
    "    try: \n",
    "        return str(string).lower() not in nullSet\n",
    "    except UnicodeEncodeError: # errors on valid special characters such as \\u2019\n",
    "        return True\n",
    "\n",
    "# some other validation      \n",
    "def validZip(zipcode):\n",
    "    return str(zipcode).isdigit() and len(str(zipcode)) == 5\n",
    "\n",
    "def validAddress(address):\n",
    "    addressSplit = re.sub(r\"[.\\-/,]\",\"\", str(address)).split(\" \")\n",
    "    containsNumber = addressSplit[0].isdigit() or (addressSplit[0].isalnum() and not addressSplit[0].isalpha())\n",
    "    return len(addressSplit) >= 2 and containsNumber and addressSplit[1].isalnum()\n",
    "\n",
    "def validCity(city):\n",
    "    return re.sub(r\"[.\\-]\",\"\", str(city).replace(\" \", \"\")).isalpha()\n",
    "\n",
    "def validName(name):\n",
    "    try:\n",
    "        return re.sub(r\"[.\\-&':,/()]\",\"\", str(name).replace(\" \", \"\")).isalnum()\n",
    "    except UnicodeEncodeError:\n",
    "        return True\n",
    "    \n",
    "def validPhone(phone):\n",
    "    return re.sub(r\"[.\\-()]\",\"\", str(phone).replace(\" \", \"\")).isdigit()\n"
   ]
  },
  {
   "cell_type": "code",
   "execution_count": 277,
   "metadata": {
    "ExecuteTime": {
     "end_time": "2017-09-27T10:37:21.854993",
     "start_time": "2017-09-27T10:37:13.117404"
    },
    "collapsed": false
   },
   "outputs": [],
   "source": [
    "%%capture\n",
    "fillRates = []\n",
    "for col in df.columns:\n",
    "#     print col\n",
    "#     print df[col].unique()[:50]\n",
    "#     print df[col].apply(validNotNull).sum()\n",
    "#     print \"\\n\"\n",
    "    fillRates += [col + \"|\" + str(df[col].apply(validNotNull).sum())]\n",
    "\n",
    "print \"|\" + \"|\\n|\".join(fillRates) + \"|\""
   ]
  },
  {
   "cell_type": "code",
   "execution_count": 265,
   "metadata": {
    "ExecuteTime": {
     "end_time": "2017-09-27T10:34:47.983730",
     "start_time": "2017-09-27T10:34:24.375566"
    },
    "collapsed": false,
    "run_control": {
     "frozen": false,
     "read_only": false
    }
   },
   "outputs": [],
   "source": [
    "%%capture\n",
    "print df.zip.apply(validZip).sum()\n",
    "print df.zip[~df.zip.apply(validZip)].unique()\n",
    "df[df.zip == '4105'] # falmouth, me 04105\n",
    "df[df.zip == '4989'] # vassalboro, me 04989\n",
    "\n",
    "print df.address.apply(validAddress).sum()\n",
    "print df.address[~df.address.apply(validAddress)].unique()\n",
    "\n",
    "print df.name.apply(validName).sum()\n",
    "print df.name[~df.name.apply(validName)].unique()\n",
    "\n",
    "print df.city.apply(validCity).sum()\n",
    "print df.city[~df.city.apply(validCity)].unique()\n",
    "\n",
    "print df.phone.apply(validPhone).sum()\n",
    "print df.phone[~df.phone.apply(validPhone)].unique()"
   ]
  },
  {
   "cell_type": "markdown",
   "metadata": {},
   "source": [
    "## 3. Cardinality\n",
    "### The cardinality of each field.\n",
    "Cardinality is observed as the number of unique values in each field.\n",
    " \n",
    "|Attribute | Information|  \n",
    "|:---------:|:-----------:|  \n",
    "|address|892114|\n",
    "|category_code|1178|\n",
    "|city|13714|\n",
    "|headcount|9|\n",
    "|name|890717|\n",
    "|phone|575148|\n",
    "|revenue|11|\n",
    "|state|53|\n",
    "|time_in_business|5|\n",
    "|zip|26391|"
   ]
  },
  {
   "cell_type": "code",
   "execution_count": 266,
   "metadata": {
    "ExecuteTime": {
     "end_time": "2017-09-27T10:34:47.987818",
     "start_time": "2017-09-27T10:34:47.985391"
    },
    "collapsed": true
   },
   "outputs": [],
   "source": [
    "def cardinality(series):\n",
    "    return series[series.apply(validNotNull)].unique().size"
   ]
  },
  {
   "cell_type": "code",
   "execution_count": 267,
   "metadata": {
    "ExecuteTime": {
     "end_time": "2017-09-27T10:35:00.517838",
     "start_time": "2017-09-27T10:34:47.989475"
    },
    "collapsed": false
   },
   "outputs": [],
   "source": [
    "df.apply(cardinality);"
   ]
  },
  {
   "cell_type": "markdown",
   "metadata": {},
   "source": [
    "## Something interesting\n",
    "### Find something cool or odd in the data set and tell us about it.\n",
    "\n",
    "By parsing the string values for `revenue`, `headcount`, and `time_in_business` for their numeric values and taking the average of the ranges, we can group by state to observe any difference across the country. Some observations include:\n",
    " - Surprisingly, based on this method of estimation, Hawaii, Maine, Utah, Mississippi, and North Dakota have some of the highest average revenues. These states may not be typically associated with high revenue compared to those with larger metropolitan centers like California and New York. This might be due to the high revenue seen in some businesses without a state that might be located in multiple cities.\n",
    " - North Dakota has the longest time in business but also the lowest headcount per business. Meanwhile their border state Montana has 7 more people per business.\n",
    " \n",
    "These are not the most accurate estimations as the provided ranges are quite large and also underestimates high values while overestimating low values. (e.g. less than $500,000 is considered exactly 500,000) "
   ]
  },
  {
   "cell_type": "code",
   "execution_count": 268,
   "metadata": {
    "ExecuteTime": {
     "end_time": "2017-09-27T10:35:00.523581",
     "start_time": "2017-09-27T10:35:00.519596"
    },
    "collapsed": true
   },
   "outputs": [],
   "source": [
    "def getMeanValue(value):\n",
    "    onlyNum = re.findall(r\"[0-9]+\", str(value).replace(\",\", \"\"))\n",
    "    nums = [float(n) for n in onlyNum]\n",
    "    l = len(nums)\n",
    "    return sum(nums)/l if l else None"
   ]
  },
  {
   "cell_type": "code",
   "execution_count": 282,
   "metadata": {
    "ExecuteTime": {
     "end_time": "2017-09-27T10:41:22.580911",
     "start_time": "2017-09-27T10:41:07.720157"
    },
    "collapsed": false
   },
   "outputs": [
    {
     "data": {
      "text/html": [
       "<div>\n",
       "<table border=\"1\" class=\"dataframe\">\n",
       "  <thead>\n",
       "    <tr style=\"text-align: right;\">\n",
       "      <th></th>\n",
       "      <th>headcount</th>\n",
       "      <th>revenue</th>\n",
       "      <th>time_in_business</th>\n",
       "    </tr>\n",
       "    <tr>\n",
       "      <th>state</th>\n",
       "      <th></th>\n",
       "      <th></th>\n",
       "      <th></th>\n",
       "    </tr>\n",
       "  </thead>\n",
       "  <tbody>\n",
       "    <tr>\n",
       "      <th>PR</th>\n",
       "      <td>38.500000</td>\n",
       "      <td>500000.000000</td>\n",
       "      <td>9.000000</td>\n",
       "    </tr>\n",
       "    <tr>\n",
       "      <th></th>\n",
       "      <td>12.500000</td>\n",
       "      <td>267859.273810</td>\n",
       "      <td>8.678571</td>\n",
       "    </tr>\n",
       "    <tr>\n",
       "      <th>0</th>\n",
       "      <td>21.857143</td>\n",
       "      <td>236863.947368</td>\n",
       "      <td>9.333333</td>\n",
       "    </tr>\n",
       "    <tr>\n",
       "      <th></th>\n",
       "      <td>11.392857</td>\n",
       "      <td>230771.858974</td>\n",
       "      <td>9.428571</td>\n",
       "    </tr>\n",
       "    <tr>\n",
       "      <th>null</th>\n",
       "      <td>26.175000</td>\n",
       "      <td>223686.815789</td>\n",
       "      <td>9.157895</td>\n",
       "    </tr>\n",
       "    <tr>\n",
       "      <th>HI</th>\n",
       "      <td>33.646920</td>\n",
       "      <td>221724.136299</td>\n",
       "      <td>9.344893</td>\n",
       "    </tr>\n",
       "    <tr>\n",
       "      <th>ME</th>\n",
       "      <td>34.994449</td>\n",
       "      <td>220936.570983</td>\n",
       "      <td>9.364090</td>\n",
       "    </tr>\n",
       "    <tr>\n",
       "      <th>UT</th>\n",
       "      <td>35.164671</td>\n",
       "      <td>219941.387535</td>\n",
       "      <td>9.437339</td>\n",
       "    </tr>\n",
       "    <tr>\n",
       "      <th>DC</th>\n",
       "      <td>31.474623</td>\n",
       "      <td>219825.827450</td>\n",
       "      <td>9.410771</td>\n",
       "    </tr>\n",
       "    <tr>\n",
       "      <th>MS</th>\n",
       "      <td>34.547813</td>\n",
       "      <td>219511.542263</td>\n",
       "      <td>9.413322</td>\n",
       "    </tr>\n",
       "  </tbody>\n",
       "</table>\n",
       "</div>"
      ],
      "text/plain": [
       "       headcount        revenue  time_in_business\n",
       "state                                            \n",
       "PR     38.500000  500000.000000          9.000000\n",
       "       12.500000  267859.273810          8.678571\n",
       "0      21.857143  236863.947368          9.333333\n",
       "       11.392857  230771.858974          9.428571\n",
       "null   26.175000  223686.815789          9.157895\n",
       "HI     33.646920  221724.136299          9.344893\n",
       "ME     34.994449  220936.570983          9.364090\n",
       "UT     35.164671  219941.387535          9.437339\n",
       "DC     31.474623  219825.827450          9.410771\n",
       "MS     34.547813  219511.542263          9.413322"
      ]
     },
     "execution_count": 282,
     "metadata": {},
     "output_type": "execute_result"
    }
   ],
   "source": [
    "estimatedValues = df[['headcount', 'revenue', 'time_in_business']].applymap(getMeanValue).set_index(df.state)\n",
    "estimatedValuesStates = estimatedValues.groupby(estimatedValues.index).mean()\n",
    "estimatedValuesStates.sort_values(\"revenue\", ascending=False).head(10)"
   ]
  },
  {
   "cell_type": "code",
   "execution_count": 270,
   "metadata": {
    "ExecuteTime": {
     "end_time": "2017-09-27T10:35:14.930209",
     "start_time": "2017-09-27T10:35:14.924922"
    },
    "collapsed": true
   },
   "outputs": [],
   "source": [
    "states = [\"AL\", \"AK\", \"AZ\", \"AR\", \"CA\", \"CO\", \"CT\", \"DC\", \"DE\", \"FL\", \"GA\", \n",
    "          \"HI\", \"ID\", \"IL\", \"IN\", \"IA\", \"KS\", \"KY\", \"LA\", \"ME\", \"MD\", \n",
    "          \"MA\", \"MI\", \"MN\", \"MS\", \"MO\", \"MT\", \"NE\", \"NV\", \"NH\", \"NJ\", \n",
    "          \"NM\", \"NY\", \"NC\", \"ND\", \"OH\", \"OK\", \"OR\", \"PA\", \"RI\", \"SC\", \n",
    "          \"SD\", \"TN\", \"TX\", \"UT\", \"VT\", \"VA\", \"WA\", \"WV\", \"WI\", \"WY\"]\n",
    "estimatedValuesStates = estimatedValuesStates[estimatedValuesStates.index.isin(states)]"
   ]
  },
  {
   "cell_type": "code",
   "execution_count": 271,
   "metadata": {
    "ExecuteTime": {
     "end_time": "2017-09-27T10:35:17.026691",
     "start_time": "2017-09-27T10:35:14.932055"
    },
    "collapsed": false
   },
   "outputs": [
    {
     "data": {
      "text/html": [
       "<iframe id=\"igraph\" scrolling=\"no\" style=\"border:none;\" seamless=\"seamless\" src=\"https://plot.ly/~skylerroh/32.embed\" height=\"525px\" width=\"100%\"></iframe>"
      ],
      "text/plain": [
       "<plotly.tools.PlotlyDisplay object>"
      ]
     },
     "execution_count": 271,
     "metadata": {},
     "output_type": "execute_result"
    }
   ],
   "source": [
    "import plotly.plotly as py\n",
    "import colorlover as cl\n",
    "\n",
    "for col in estimatedValuesStates.columns:\n",
    "    estimatedValuesStates[col] = estimatedValuesStates[col].astype(str)\n",
    "\n",
    "scl = [[0.0, 'rgb(242,240,247)'],[0.2, 'rgb(218,218,235)'],[0.4, 'rgb(188,189,220)'],\\\n",
    "            [0.6, 'rgb(158,154,200)'],[0.8, 'rgb(117,107,177)'],[1.0, 'rgb(84,39,143)']]\n",
    "\n",
    "estimatedValuesStates['text'] = estimatedValuesStates.index.astype(str) + '<br>' +\\\n",
    "    'Revenue: '+ estimatedValuesStates['revenue'].astype(str)\n",
    "\n",
    "data1 = [ dict(\n",
    "        type='choropleth',\n",
    "        colorscale = scl,\n",
    "        autocolorscale = False,\n",
    "        locations = estimatedValuesStates.index,\n",
    "        z = estimatedValuesStates['revenue'].astype(float),\n",
    "        locationmode = 'USA-states',\n",
    "        text = estimatedValuesStates['text'],\n",
    "        marker = dict(\n",
    "            line = dict (\n",
    "                color = 'rgb(255,255,255)',\n",
    "                width = 2\n",
    "            ) ),\n",
    "        colorbar = dict(\n",
    "            title = \"USD\")\n",
    "        ) ]\n",
    "\n",
    "layout = dict(\n",
    "        title = 'Estimated Average Revenue (Avg taken from range)',\n",
    "        geo = dict(\n",
    "            scope='usa',\n",
    "            projection=dict( type='albers usa' ),\n",
    "            showlakes = True,\n",
    "            lakecolor = 'rgb(255, 255, 255)'),\n",
    "             )\n",
    "    \n",
    "fig = dict( data=data1, layout=layout )\n",
    "py.iplot( fig, filename='d3-cloropleth-map1' )"
   ]
  },
  {
   "cell_type": "code",
   "execution_count": 272,
   "metadata": {
    "ExecuteTime": {
     "end_time": "2017-09-27T10:35:18.959389",
     "start_time": "2017-09-27T10:35:17.028149"
    },
    "collapsed": false
   },
   "outputs": [
    {
     "data": {
      "text/html": [
       "<iframe id=\"igraph\" scrolling=\"no\" style=\"border:none;\" seamless=\"seamless\" src=\"https://plot.ly/~skylerroh/34.embed\" height=\"525px\" width=\"100%\"></iframe>"
      ],
      "text/plain": [
       "<plotly.tools.PlotlyDisplay object>"
      ]
     },
     "execution_count": 272,
     "metadata": {},
     "output_type": "execute_result"
    }
   ],
   "source": [
    "estimatedValuesStates['text'] = estimatedValuesStates.index.astype(str) + '<br>' +\\\n",
    "    'Headcount: '+ estimatedValuesStates['headcount'].astype(str)\n",
    "\n",
    "data2 = [ dict(\n",
    "        type='choropleth',\n",
    "        colorscale = scl,\n",
    "        autocolorscale = True,\n",
    "        locations = estimatedValuesStates.index,\n",
    "        z = estimatedValuesStates['headcount'].astype(float),\n",
    "        locationmode = 'USA-states',\n",
    "        text = estimatedValuesStates['text'],\n",
    "        marker = dict(\n",
    "            line = dict (\n",
    "                color = 'rgb(255,255,255)',\n",
    "                width = 2\n",
    "            ) ),\n",
    "        colorbar = dict(\n",
    "            title = \"People\")\n",
    "        ) ]\n",
    "\n",
    "layout = dict(\n",
    "        title = 'Estimated Average Headcount (Avg taken from range)',\n",
    "        geo = dict(\n",
    "            scope='usa',\n",
    "            projection=dict( type='albers usa' ),\n",
    "            showlakes = True,\n",
    "            lakecolor = 'rgb(255, 255, 255)'),\n",
    "             )\n",
    "    \n",
    "fig = dict( data=data2, layout=layout )\n",
    "py.iplot( fig, filename='d3-cloropleth-map2' )"
   ]
  },
  {
   "cell_type": "code",
   "execution_count": 273,
   "metadata": {
    "ExecuteTime": {
     "end_time": "2017-09-27T10:35:20.768929",
     "start_time": "2017-09-27T10:35:18.960793"
    },
    "collapsed": false
   },
   "outputs": [
    {
     "data": {
      "text/html": [
       "<iframe id=\"igraph\" scrolling=\"no\" style=\"border:none;\" seamless=\"seamless\" src=\"https://plot.ly/~skylerroh/36.embed\" height=\"525px\" width=\"100%\"></iframe>"
      ],
      "text/plain": [
       "<plotly.tools.PlotlyDisplay object>"
      ]
     },
     "execution_count": 273,
     "metadata": {},
     "output_type": "execute_result"
    }
   ],
   "source": [
    "estimatedValuesStates['text'] = estimatedValuesStates.index.astype(str) + '<br>' +\\\n",
    "    'Time in Business: '+ estimatedValuesStates['time_in_business'].astype(str)\n",
    "\n",
    "grns = zip(np.arange(0.0, 1.2, 0.2), cl.scales['6']['seq']['Greens'])\n",
    "    \n",
    "data3 = [ dict(\n",
    "        type='choropleth',\n",
    "        colorscale = grns,\n",
    "        autocolorscale = False,\n",
    "        locations = estimatedValuesStates.index,\n",
    "        z = estimatedValuesStates['time_in_business'].astype(float),\n",
    "        locationmode = 'USA-states',\n",
    "        text = estimatedValuesStates['text'],\n",
    "        marker = dict(\n",
    "            line = dict (\n",
    "                color = 'rgb(255,255,255)',\n",
    "                width = 2\n",
    "            ) ),\n",
    "        colorbar = dict(\n",
    "            title = \"People\")\n",
    "        ) ]\n",
    "\n",
    "layout = dict(\n",
    "        title = 'Estimated Average Time in Business (Avg taken from range)',\n",
    "        geo = dict(\n",
    "            scope='usa',\n",
    "            projection=dict( type='albers usa' ),\n",
    "            showlakes = True,\n",
    "            lakecolor = 'rgb(255, 255, 255)'),\n",
    "             )\n",
    "    \n",
    "fig = dict( data=data3, layout=layout )\n",
    "py.iplot( fig, filename='d3-cloropleth-map3' )"
   ]
  },
  {
   "cell_type": "raw",
   "metadata": {
    "ExecuteTime": {
     "end_time": "2017-09-27T00:14:25.352770",
     "start_time": "2017-09-27T00:14:25.347863"
    }
   },
   "source": [
    "<script>\n",
    "  $(document).ready(function(){\n",
    "    $('div.prompt').hide();\n",
    "    $('div.back-to-top').hide();\n",
    "    $('nav#menubar').hide();\n",
    "    $('.breadcrumb').hide();\n",
    "    $('.hidden-print').hide();\n",
    "  });\n",
    "</script>\n",
    "\n",
    "<footer id=\"attribution\" style=\"float:right; color:#999; background:#fff;\">\n",
    "Created with Jupyter, delivered by Fastly, rendered by Rackspace.\n",
    "</footer>"
   ]
  },
  {
   "cell_type": "code",
   "execution_count": null,
   "metadata": {
    "collapsed": true
   },
   "outputs": [],
   "source": []
  }
 ],
 "metadata": {
  "kernelspec": {
   "display_name": "Python 2",
   "language": "python",
   "name": "python2"
  },
  "language_info": {
   "codemirror_mode": {
    "name": "ipython",
    "version": 2
   },
   "file_extension": ".py",
   "mimetype": "text/x-python",
   "name": "python",
   "nbconvert_exporter": "python",
   "pygments_lexer": "ipython2",
   "version": "2.7.10"
  }
 },
 "nbformat": 4,
 "nbformat_minor": 0
}
